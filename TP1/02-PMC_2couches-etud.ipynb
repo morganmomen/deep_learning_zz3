{
 "cells": [
  {
   "cell_type": "markdown",
   "metadata": {},
   "source": [
    "# Perceptron multicouches et Keras\n",
    "\n",
    "Définition d'un perceptron multicouches à deux couches cachées pour la classification de données MNIST\n"
   ]
  },
  {
   "cell_type": "markdown",
   "metadata": {},
   "source": [
    "## MNIST \n",
    "\n",
    "La base de données MNIST (Mixed National Institute of Standards and Technology), est une base de données de chiffres manuscrits. C’est une base de données standard pour le test de nouveaux algorithmes de reconnaissance de ces chiffres. Elle est composée de 60000 images d’apprentissage et 10000 images de test. Les images en noir et blanc, normalisées centrées de 28 pixels de côté.\n",
    "\n",
    "![mnist.png](./mnist.png)\n",
    "\n",
    "\n"
   ]
  },
  {
   "cell_type": "markdown",
   "metadata": {},
   "source": [
    "# Import"
   ]
  },
  {
   "cell_type": "code",
   "metadata": {
    "ExecuteTime": {
     "end_time": "2024-10-27T13:37:44.996037Z",
     "start_time": "2024-10-27T13:37:43.275765Z"
    }
   },
   "source": [
    "import numpy as np\n",
    "import matplotlib.pyplot as plt\n",
    "import tensorflow.keras as tk\n",
    "from tensorflow.keras import Sequential\n",
    "\n",
    "\n",
    "from tensorflow.keras.layers import Input, Dense, Activation,Lambda\n",
    "from tensorflow.keras.models import Model\n",
    "\n",
    "from tensorflow.keras.optimizers import Adam\n"
   ],
   "outputs": [
    {
     "name": "stderr",
     "output_type": "stream",
     "text": [
      "2024-10-27 14:37:43.800883: E external/local_xla/xla/stream_executor/plugin_registry.cc:93] Invalid plugin kind specified: DNN\n",
      "2024-10-27 14:37:43.848119: I tensorflow/core/platform/cpu_feature_guard.cc:182] This TensorFlow binary is optimized to use available CPU instructions in performance-critical operations.\n",
      "To enable the following instructions: AVX2 FMA, in other operations, rebuild TensorFlow with the appropriate compiler flags.\n"
     ]
    }
   ],
   "execution_count": 1
  },
  {
   "cell_type": "markdown",
   "metadata": {},
   "source": [
    "# Données"
   ]
  },
  {
   "cell_type": "markdown",
   "metadata": {},
   "source": [
    "On charge ensuite les données MNIST. Les paramètres de la base sont récupérés (nombre d'exemples, de classes, taille de la rétine)."
   ]
  },
  {
   "cell_type": "code",
   "metadata": {
    "tags": [],
    "ExecuteTime": {
     "end_time": "2024-10-27T13:38:02.815520Z",
     "start_time": "2024-10-27T13:38:02.557698Z"
    }
   },
   "source": [
    "(x_train, y_train), (x_test, y_test) =tk.datasets.mnist.load_data()\n",
    "\n",
    "num_examples = x_train.shape[0] \n",
    "num_test = x_test.shape[0]\n",
    "num_input = x_train.shape[1]*x_train.shape[2]\n",
    "num_classes = 10\n",
    "\n",
    "img_size = x_train.shape[1] \n",
    "img_shape = (img_size, img_size)\n",
    "\n",
    "x_train = x_train.reshape((num_examples, num_input))/255\n",
    "x_test  = x_test.reshape((num_test, num_input))/255\n",
    "\n",
    "# normalisation\n",
    "\n",
    "\n",
    "\n",
    "print('Taille de la rétine : ',num_input)\n",
    "print(\"Nombre d'exemples : \",num_examples)\n",
    "\n",
    "y_train = tk.utils.to_categorical(y_train, num_classes)\n",
    "y_test = tk.utils.to_categorical(y_test, num_classes)\n"
   ],
   "outputs": [
    {
     "name": "stdout",
     "output_type": "stream",
     "text": [
      "Taille de la rétine :  784\n",
      "Nombre d'exemples :  60000\n"
     ]
    }
   ],
   "execution_count": 3
  },
  {
   "cell_type": "markdown",
   "metadata": {},
   "source": [
    "# Réseau"
   ]
  },
  {
   "cell_type": "markdown",
   "metadata": {},
   "source": [
    "## Paramètres du réseau"
   ]
  },
  {
   "cell_type": "markdown",
   "metadata": {},
   "source": [
    "Dans un premier temps, on définit les paramètres du réseau : \n",
    "- 256 neurones cachés dans chaque couche cachée, \n",
    "- un apprentissage par batchs de taille 100\n",
    "- 15 itérations pour l'apprentissage\n"
   ]
  },
  {
   "cell_type": "code",
   "metadata": {
    "ExecuteTime": {
     "end_time": "2024-10-27T13:44:04.845148Z",
     "start_time": "2024-10-27T13:44:04.841651Z"
    }
   },
   "source": [
    "\n",
    "lr = 0.001\n",
    "num_epochs = 100\n",
    "batch_size = 100\n",
    "\n",
    "# Nombre de neurones sur les deux couches cachées\n",
    "num_hidden_1 = 256 \n",
    "num_hidden_2 = 256 "
   ],
   "outputs": [],
   "execution_count": 15
  },
  {
   "cell_type": "markdown",
   "metadata": {},
   "source": [
    "## Définition du réseau"
   ]
  },
  {
   "cell_type": "markdown",
   "metadata": {},
   "source": [
    "On construit alors le modèle :\n",
    "- le réseau\n",
    "- la fonction de coût à optimiser : dans le cas d'un problème de classification, la fonction d'entropie croisée calculée entre la sortie théorique et la sortie calculée par le modèle est adéquate\n",
    "- la méthode d'optimisation utilisée (descente de gradient) : ici, l'algorithme [ADAM](https://arxiv.org/abs/1412.6980) est utilisé"
   ]
  },
  {
   "cell_type": "code",
   "metadata": {
    "tags": [],
    "ExecuteTime": {
     "end_time": "2024-10-27T13:44:07.723494Z",
     "start_time": "2024-10-27T13:44:07.652626Z"
    }
   },
   "source": [
    "#TODO : réseau\n",
    "\n",
    "model = Sequential()\n",
    "model.add(Dense(num_hidden_1, input_shape=(num_input,), activation='relu'))\n",
    "model.add(Dense(num_hidden_2, activation='relu'))\n",
    "model.add(Dense(num_classes, activation='softmax'))\n",
    "\n",
    "\n",
    "\n",
    "model.summary()"
   ],
   "outputs": [
    {
     "name": "stdout",
     "output_type": "stream",
     "text": [
      "Model: \"sequential_3\"\n",
      "_________________________________________________________________\n",
      " Layer (type)                Output Shape              Param #   \n",
      "=================================================================\n",
      " dense_9 (Dense)             (None, 256)               200960    \n",
      "                                                                 \n",
      " dense_10 (Dense)            (None, 256)               65792     \n",
      "                                                                 \n",
      " dense_11 (Dense)            (None, 10)                2570      \n",
      "                                                                 \n",
      "=================================================================\n",
      "Total params: 269322 (1.03 MB)\n",
      "Trainable params: 269322 (1.03 MB)\n",
      "Non-trainable params: 0 (0.00 Byte)\n",
      "_________________________________________________________________\n"
     ]
    },
    {
     "name": "stderr",
     "output_type": "stream",
     "text": [
      "2024-10-27 14:44:07.674130: I tensorflow/core/common_runtime/gpu_fusion_pass.cc:508] ROCm Fusion is enabled.\n",
      "2024-10-27 14:44:07.675508: I tensorflow/core/common_runtime/gpu_fusion_pass.cc:508] ROCm Fusion is enabled.\n",
      "2024-10-27 14:44:07.683313: I tensorflow/core/common_runtime/gpu_fusion_pass.cc:508] ROCm Fusion is enabled.\n",
      "2024-10-27 14:44:07.685973: I tensorflow/core/common_runtime/gpu_fusion_pass.cc:508] ROCm Fusion is enabled.\n",
      "2024-10-27 14:44:07.699324: I tensorflow/core/common_runtime/gpu_fusion_pass.cc:508] ROCm Fusion is enabled.\n",
      "2024-10-27 14:44:07.700852: I tensorflow/core/common_runtime/gpu_fusion_pass.cc:508] ROCm Fusion is enabled.\n"
     ]
    }
   ],
   "execution_count": 16
  },
  {
   "cell_type": "code",
   "metadata": {
    "ExecuteTime": {
     "end_time": "2024-10-27T13:44:09.656128Z",
     "start_time": "2024-10-27T13:44:09.645128Z"
    }
   },
   "source": [
    "#TODO : optimiseur et fonction de perte\n",
    "model.compile(optimizer=Adam(learning_rate=lr), loss='categorical_crossentropy', metrics=['acc'])"
   ],
   "outputs": [],
   "execution_count": 17
  },
  {
   "cell_type": "markdown",
   "metadata": {},
   "source": [
    "On entraîne le modèle"
   ]
  },
  {
   "cell_type": "code",
   "metadata": {
    "tags": [],
    "ExecuteTime": {
     "end_time": "2024-10-27T13:48:18.756006Z",
     "start_time": "2024-10-27T13:44:10.770605Z"
    }
   },
   "source": [
    "#TODO ;: entraînement\n",
    "hist = model.fit(x_train, y_train, epochs=num_epochs, batch_size=batch_size)"
   ],
   "outputs": [
    {
     "name": "stdout",
     "output_type": "stream",
     "text": [
      "Epoch 1/100\n"
     ]
    },
    {
     "name": "stderr",
     "output_type": "stream",
     "text": [
      "2024-10-27 14:44:11.275017: I tensorflow/core/common_runtime/gpu_fusion_pass.cc:508] ROCm Fusion is enabled.\n",
      "2024-10-27 14:44:11.276749: I tensorflow/core/common_runtime/gpu_fusion_pass.cc:508] ROCm Fusion is enabled.\n",
      "2024-10-27 14:44:11.284330: I tensorflow/core/common_runtime/gpu_fusion_pass.cc:508] ROCm Fusion is enabled.\n",
      "2024-10-27 14:44:11.285364: I tensorflow/core/common_runtime/gpu_fusion_pass.cc:508] ROCm Fusion is enabled.\n",
      "2024-10-27 14:44:11.291186: I tensorflow/core/common_runtime/gpu_fusion_pass.cc:508] ROCm Fusion is enabled.\n",
      "2024-10-27 14:44:11.292284: I tensorflow/core/common_runtime/gpu_fusion_pass.cc:508] ROCm Fusion is enabled.\n",
      "2024-10-27 14:44:11.349028: I tensorflow/core/common_runtime/gpu_fusion_pass.cc:508] ROCm Fusion is enabled.\n",
      "2024-10-27 14:44:11.349991: I tensorflow/core/common_runtime/gpu_fusion_pass.cc:508] ROCm Fusion is enabled.\n",
      "2024-10-27 14:44:11.356891: I tensorflow/core/common_runtime/gpu_fusion_pass.cc:508] ROCm Fusion is enabled.\n",
      "2024-10-27 14:44:11.357971: I tensorflow/core/common_runtime/gpu_fusion_pass.cc:508] ROCm Fusion is enabled.\n",
      "2024-10-27 14:44:11.358860: I tensorflow/core/common_runtime/gpu_fusion_pass.cc:508] ROCm Fusion is enabled.\n",
      "2024-10-27 14:44:11.359846: I tensorflow/core/common_runtime/gpu_fusion_pass.cc:508] ROCm Fusion is enabled.\n",
      "2024-10-27 14:44:11.369611: I tensorflow/core/common_runtime/gpu_fusion_pass.cc:508] ROCm Fusion is enabled.\n",
      "2024-10-27 14:44:11.373619: I tensorflow/core/common_runtime/gpu_fusion_pass.cc:508] ROCm Fusion is enabled.\n",
      "2024-10-27 14:44:11.376722: I tensorflow/core/common_runtime/gpu_fusion_pass.cc:508] ROCm Fusion is enabled.\n",
      "2024-10-27 14:44:11.428848: I tensorflow/core/common_runtime/gpu_fusion_pass.cc:508] ROCm Fusion is enabled.\n",
      "2024-10-27 14:44:11.429943: I tensorflow/core/common_runtime/gpu_fusion_pass.cc:508] ROCm Fusion is enabled.\n",
      "2024-10-27 14:44:11.430993: I tensorflow/core/common_runtime/gpu_fusion_pass.cc:508] ROCm Fusion is enabled.\n",
      "2024-10-27 14:44:11.432018: I tensorflow/core/common_runtime/gpu_fusion_pass.cc:508] ROCm Fusion is enabled.\n",
      "2024-10-27 14:44:11.433005: I tensorflow/core/common_runtime/gpu_fusion_pass.cc:508] ROCm Fusion is enabled.\n",
      "2024-10-27 14:44:11.434000: I tensorflow/core/common_runtime/gpu_fusion_pass.cc:508] ROCm Fusion is enabled.\n",
      "2024-10-27 14:44:11.435004: I tensorflow/core/common_runtime/gpu_fusion_pass.cc:508] ROCm Fusion is enabled.\n",
      "2024-10-27 14:44:11.436006: I tensorflow/core/common_runtime/gpu_fusion_pass.cc:508] ROCm Fusion is enabled.\n",
      "2024-10-27 14:44:11.437019: I tensorflow/core/common_runtime/gpu_fusion_pass.cc:508] ROCm Fusion is enabled.\n",
      "2024-10-27 14:44:11.438028: I tensorflow/core/common_runtime/gpu_fusion_pass.cc:508] ROCm Fusion is enabled.\n",
      "2024-10-27 14:44:11.439024: I tensorflow/core/common_runtime/gpu_fusion_pass.cc:508] ROCm Fusion is enabled.\n",
      "2024-10-27 14:44:11.440000: I tensorflow/core/common_runtime/gpu_fusion_pass.cc:508] ROCm Fusion is enabled.\n"
     ]
    },
    {
     "name": "stdout",
     "output_type": "stream",
     "text": [
      " 12/600 [..............................] - ETA: 2s - loss: 1.7246 - acc: 0.5317  "
     ]
    },
    {
     "name": "stderr",
     "output_type": "stream",
     "text": [
      "2024-10-27 14:44:11.708990: I tensorflow/core/common_runtime/gpu_fusion_pass.cc:508] ROCm Fusion is enabled.\n"
     ]
    },
    {
     "name": "stdout",
     "output_type": "stream",
     "text": [
      "600/600 [==============================] - 3s 5ms/step - loss: 0.2446 - acc: 0.9286\n",
      "Epoch 2/100\n",
      "600/600 [==============================] - 2s 4ms/step - loss: 0.0905 - acc: 0.9722\n",
      "Epoch 3/100\n",
      "600/600 [==============================] - 2s 4ms/step - loss: 0.0614 - acc: 0.9811\n",
      "Epoch 4/100\n",
      "600/600 [==============================] - 3s 4ms/step - loss: 0.0423 - acc: 0.9867\n",
      "Epoch 5/100\n",
      "600/600 [==============================] - 3s 4ms/step - loss: 0.0325 - acc: 0.9893\n",
      "Epoch 6/100\n",
      "600/600 [==============================] - 2s 4ms/step - loss: 0.0260 - acc: 0.9916\n",
      "Epoch 7/100\n",
      "600/600 [==============================] - 1s 2ms/step - loss: 0.0214 - acc: 0.9930\n",
      "Epoch 8/100\n",
      "600/600 [==============================] - 3s 4ms/step - loss: 0.0179 - acc: 0.9940\n",
      "Epoch 9/100\n",
      "600/600 [==============================] - 2s 4ms/step - loss: 0.0154 - acc: 0.9948\n",
      "Epoch 10/100\n",
      "600/600 [==============================] - 3s 4ms/step - loss: 0.0141 - acc: 0.9950\n",
      "Epoch 11/100\n",
      "600/600 [==============================] - 3s 4ms/step - loss: 0.0106 - acc: 0.9966\n",
      "Epoch 12/100\n",
      "600/600 [==============================] - 3s 4ms/step - loss: 0.0134 - acc: 0.9957\n",
      "Epoch 13/100\n",
      "600/600 [==============================] - 2s 4ms/step - loss: 0.0099 - acc: 0.9968\n",
      "Epoch 14/100\n",
      "600/600 [==============================] - 3s 4ms/step - loss: 0.0124 - acc: 0.9959\n",
      "Epoch 15/100\n",
      "600/600 [==============================] - 3s 4ms/step - loss: 0.0075 - acc: 0.9976\n",
      "Epoch 16/100\n",
      "600/600 [==============================] - 2s 4ms/step - loss: 0.0078 - acc: 0.9976\n",
      "Epoch 17/100\n",
      "600/600 [==============================] - 3s 4ms/step - loss: 0.0111 - acc: 0.9961\n",
      "Epoch 18/100\n",
      "600/600 [==============================] - 3s 4ms/step - loss: 0.0076 - acc: 0.9977\n",
      "Epoch 19/100\n",
      "600/600 [==============================] - 2s 4ms/step - loss: 0.0058 - acc: 0.9981\n",
      "Epoch 20/100\n",
      "600/600 [==============================] - 1s 2ms/step - loss: 0.0100 - acc: 0.9970\n",
      "Epoch 21/100\n",
      "600/600 [==============================] - 3s 4ms/step - loss: 0.0055 - acc: 0.9980\n",
      "Epoch 22/100\n",
      "600/600 [==============================] - 3s 4ms/step - loss: 0.0048 - acc: 0.9987\n",
      "Epoch 23/100\n",
      "600/600 [==============================] - 2s 4ms/step - loss: 0.0095 - acc: 0.9971\n",
      "Epoch 24/100\n",
      "600/600 [==============================] - 3s 4ms/step - loss: 0.0081 - acc: 0.9976\n",
      "Epoch 25/100\n",
      "600/600 [==============================] - 3s 4ms/step - loss: 0.0062 - acc: 0.9982\n",
      "Epoch 26/100\n",
      "600/600 [==============================] - 2s 4ms/step - loss: 0.0070 - acc: 0.9980\n",
      "Epoch 27/100\n",
      "600/600 [==============================] - 3s 4ms/step - loss: 0.0071 - acc: 0.9978\n",
      "Epoch 28/100\n",
      "600/600 [==============================] - 3s 4ms/step - loss: 0.0052 - acc: 0.9984\n",
      "Epoch 29/100\n",
      "600/600 [==============================] - 2s 4ms/step - loss: 0.0040 - acc: 0.9988\n",
      "Epoch 30/100\n",
      "600/600 [==============================] - 3s 4ms/step - loss: 0.0031 - acc: 0.9992\n",
      "Epoch 31/100\n",
      "600/600 [==============================] - 3s 5ms/step - loss: 0.0091 - acc: 0.9973\n",
      "Epoch 32/100\n",
      "600/600 [==============================] - 2s 4ms/step - loss: 0.0072 - acc: 0.9974\n",
      "Epoch 33/100\n",
      "600/600 [==============================] - 1s 2ms/step - loss: 0.0036 - acc: 0.9989\n",
      "Epoch 34/100\n",
      "600/600 [==============================] - 3s 4ms/step - loss: 0.0059 - acc: 0.9985\n",
      "Epoch 35/100\n",
      "600/600 [==============================] - 3s 4ms/step - loss: 0.0059 - acc: 0.9982\n",
      "Epoch 36/100\n",
      "600/600 [==============================] - 3s 4ms/step - loss: 0.0036 - acc: 0.9989\n",
      "Epoch 37/100\n",
      "600/600 [==============================] - 3s 5ms/step - loss: 0.0072 - acc: 0.9979\n",
      "Epoch 38/100\n",
      "600/600 [==============================] - 3s 5ms/step - loss: 0.0022 - acc: 0.9992\n",
      "Epoch 39/100\n",
      "600/600 [==============================] - 3s 4ms/step - loss: 0.0058 - acc: 0.9983\n",
      "Epoch 40/100\n",
      "600/600 [==============================] - 3s 4ms/step - loss: 0.0052 - acc: 0.9986\n",
      "Epoch 41/100\n",
      "600/600 [==============================] - 3s 4ms/step - loss: 0.0018 - acc: 0.9995\n",
      "Epoch 42/100\n",
      "600/600 [==============================] - 2s 4ms/step - loss: 0.0069 - acc: 0.9983\n",
      "Epoch 43/100\n",
      "600/600 [==============================] - 3s 5ms/step - loss: 0.0055 - acc: 0.9983\n",
      "Epoch 44/100\n",
      "600/600 [==============================] - 2s 4ms/step - loss: 0.0015 - acc: 0.9995\n",
      "Epoch 45/100\n",
      "600/600 [==============================] - 1s 2ms/step - loss: 0.0075 - acc: 0.9978\n",
      "Epoch 46/100\n",
      "600/600 [==============================] - 3s 4ms/step - loss: 0.0041 - acc: 0.9987\n",
      "Epoch 47/100\n",
      "600/600 [==============================] - 3s 4ms/step - loss: 0.0041 - acc: 0.9987\n",
      "Epoch 48/100\n",
      "600/600 [==============================] - 3s 4ms/step - loss: 0.0049 - acc: 0.9987\n",
      "Epoch 49/100\n",
      "600/600 [==============================] - 2s 4ms/step - loss: 0.0033 - acc: 0.9991\n",
      "Epoch 50/100\n",
      "600/600 [==============================] - 3s 4ms/step - loss: 0.0042 - acc: 0.9987\n",
      "Epoch 51/100\n",
      "600/600 [==============================] - 3s 5ms/step - loss: 0.0070 - acc: 0.9983\n",
      "Epoch 52/100\n",
      "600/600 [==============================] - 3s 5ms/step - loss: 0.0031 - acc: 0.9990\n",
      "Epoch 53/100\n",
      "600/600 [==============================] - 3s 5ms/step - loss: 0.0029 - acc: 0.9991\n",
      "Epoch 54/100\n",
      "600/600 [==============================] - 3s 4ms/step - loss: 0.0037 - acc: 0.9990\n",
      "Epoch 55/100\n",
      "600/600 [==============================] - 3s 4ms/step - loss: 0.0035 - acc: 0.9991\n",
      "Epoch 56/100\n",
      "600/600 [==============================] - 3s 4ms/step - loss: 0.0026 - acc: 0.9992\n",
      "Epoch 57/100\n",
      "600/600 [==============================] - 1s 2ms/step - loss: 0.0044 - acc: 0.9988\n",
      "Epoch 58/100\n",
      "600/600 [==============================] - 2s 4ms/step - loss: 0.0040 - acc: 0.9990\n",
      "Epoch 59/100\n",
      "600/600 [==============================] - 3s 4ms/step - loss: 0.0042 - acc: 0.9988\n",
      "Epoch 60/100\n",
      "600/600 [==============================] - 3s 4ms/step - loss: 0.0041 - acc: 0.9990\n",
      "Epoch 61/100\n",
      "600/600 [==============================] - 2s 4ms/step - loss: 0.0067 - acc: 0.9980\n",
      "Epoch 62/100\n",
      "600/600 [==============================] - 3s 4ms/step - loss: 0.0028 - acc: 0.9991\n",
      "Epoch 63/100\n",
      "600/600 [==============================] - 3s 4ms/step - loss: 0.0039 - acc: 0.9989\n",
      "Epoch 64/100\n",
      "600/600 [==============================] - 3s 4ms/step - loss: 0.0031 - acc: 0.9992\n",
      "Epoch 65/100\n",
      "600/600 [==============================] - 3s 4ms/step - loss: 0.0040 - acc: 0.9989\n",
      "Epoch 66/100\n",
      "600/600 [==============================] - 3s 4ms/step - loss: 0.0053 - acc: 0.9988\n",
      "Epoch 67/100\n",
      "600/600 [==============================] - 3s 4ms/step - loss: 8.9577e-04 - acc: 0.9998\n",
      "Epoch 68/100\n",
      "600/600 [==============================] - 3s 4ms/step - loss: 0.0013 - acc: 0.9997\n",
      "Epoch 69/100\n",
      "600/600 [==============================] - 3s 5ms/step - loss: 0.0025 - acc: 0.9992\n",
      "Epoch 70/100\n",
      "600/600 [==============================] - 1s 2ms/step - loss: 0.0079 - acc: 0.9984\n",
      "Epoch 71/100\n",
      "600/600 [==============================] - 2s 4ms/step - loss: 0.0035 - acc: 0.9990\n",
      "Epoch 72/100\n",
      "600/600 [==============================] - 3s 4ms/step - loss: 0.0022 - acc: 0.9994\n",
      "Epoch 73/100\n",
      "600/600 [==============================] - 3s 4ms/step - loss: 0.0021 - acc: 0.9995\n",
      "Epoch 74/100\n",
      "600/600 [==============================] - 2s 4ms/step - loss: 0.0056 - acc: 0.9986\n",
      "Epoch 75/100\n",
      "600/600 [==============================] - 3s 4ms/step - loss: 0.0039 - acc: 0.9991\n",
      "Epoch 76/100\n",
      "600/600 [==============================] - 3s 4ms/step - loss: 0.0026 - acc: 0.9993\n",
      "Epoch 77/100\n",
      "600/600 [==============================] - 2s 4ms/step - loss: 0.0037 - acc: 0.9992\n",
      "Epoch 78/100\n",
      "600/600 [==============================] - 3s 4ms/step - loss: 0.0043 - acc: 0.9988\n",
      "Epoch 79/100\n",
      "600/600 [==============================] - 3s 4ms/step - loss: 0.0030 - acc: 0.9993\n",
      "Epoch 80/100\n",
      "600/600 [==============================] - 3s 4ms/step - loss: 0.0017 - acc: 0.9995\n",
      "Epoch 81/100\n",
      "600/600 [==============================] - 3s 4ms/step - loss: 0.0033 - acc: 0.9992\n",
      "Epoch 82/100\n",
      "600/600 [==============================] - 1s 2ms/step - loss: 0.0053 - acc: 0.9987\n",
      "Epoch 83/100\n",
      "600/600 [==============================] - 3s 4ms/step - loss: 0.0022 - acc: 0.9993\n",
      "Epoch 84/100\n",
      "600/600 [==============================] - 2s 4ms/step - loss: 0.0033 - acc: 0.9991\n",
      "Epoch 85/100\n",
      "600/600 [==============================] - 3s 4ms/step - loss: 0.0043 - acc: 0.9991\n",
      "Epoch 86/100\n",
      "600/600 [==============================] - 3s 4ms/step - loss: 0.0045 - acc: 0.9991\n",
      "Epoch 87/100\n",
      "600/600 [==============================] - 2s 4ms/step - loss: 0.0044 - acc: 0.9990\n",
      "Epoch 88/100\n",
      "600/600 [==============================] - 3s 4ms/step - loss: 0.0017 - acc: 0.9995\n",
      "Epoch 89/100\n",
      "600/600 [==============================] - 3s 4ms/step - loss: 0.0034 - acc: 0.9993\n",
      "Epoch 90/100\n",
      "600/600 [==============================] - 2s 4ms/step - loss: 0.0026 - acc: 0.9994\n",
      "Epoch 91/100\n",
      "600/600 [==============================] - 3s 4ms/step - loss: 0.0036 - acc: 0.9991\n",
      "Epoch 92/100\n",
      "600/600 [==============================] - 3s 4ms/step - loss: 0.0033 - acc: 0.9992\n",
      "Epoch 93/100\n",
      "600/600 [==============================] - 2s 4ms/step - loss: 0.0037 - acc: 0.9991\n",
      "Epoch 94/100\n",
      "600/600 [==============================] - 3s 4ms/step - loss: 0.0013 - acc: 0.9997\n",
      "Epoch 95/100\n",
      "600/600 [==============================] - 1s 2ms/step - loss: 0.0014 - acc: 0.9995\n",
      "Epoch 96/100\n",
      "600/600 [==============================] - 3s 4ms/step - loss: 0.0048 - acc: 0.9989\n",
      "Epoch 97/100\n",
      "600/600 [==============================] - 2s 4ms/step - loss: 0.0045 - acc: 0.9988\n",
      "Epoch 98/100\n",
      "600/600 [==============================] - 3s 4ms/step - loss: 0.0047 - acc: 0.9990\n",
      "Epoch 99/100\n",
      "600/600 [==============================] - 3s 4ms/step - loss: 0.0011 - acc: 0.9997\n",
      "Epoch 100/100\n",
      "600/600 [==============================] - 2s 4ms/step - loss: 6.4282e-04 - acc: 0.9998\n"
     ]
    }
   ],
   "execution_count": 18
  },
  {
   "cell_type": "code",
   "metadata": {
    "tags": [],
    "ExecuteTime": {
     "end_time": "2024-10-27T13:48:21.924629Z",
     "start_time": "2024-10-27T13:48:21.920261Z"
    }
   },
   "source": [
    "print(\"Précision ={0:5.3f} \".format(hist.history.get('acc')[-1]))"
   ],
   "outputs": [
    {
     "name": "stdout",
     "output_type": "stream",
     "text": [
      "Précision =1.000 \n"
     ]
    }
   ],
   "execution_count": 19
  },
  {
   "cell_type": "markdown",
   "metadata": {},
   "source": [
    "Puis on l'évalue sur l'ensemble de test "
   ]
  },
  {
   "cell_type": "code",
   "metadata": {
    "tags": [],
    "ExecuteTime": {
     "end_time": "2024-10-27T13:48:31.206853Z",
     "start_time": "2024-10-27T13:48:28.099705Z"
    }
   },
   "source": [
    "score = model.evaluate(x_test,y_test)\n",
    "\n",
    "x = list(range(1,num_epochs+1))\n",
    "l = hist.history['loss']\n",
    "plt.subplots(1,1)\n",
    "plt.xlabel('epoch')\n",
    "plt.ylabel('Entropie croisée')\n",
    "plt.title(\"Test : Score = {0:5.3f}, Précision = {1:5.3f}\".format(score[0], score[1]))\n",
    "plt.plot(x,l)\n",
    "plt.show()\n",
    "plt.tight_layout()\n",
    "\n",
    "predicted_classes = np.argmax(model.predict(x_test), axis=-1)\n",
    "y = np.argmax(y_test,axis=1)\n",
    "\n",
    "incorrects = np.nonzero(predicted_classes != y)[0]\n",
    "plt.figure(figsize=(10,10))\n",
    "for i in range(0,9):\n",
    "    plt.subplot(3,3,i+1)\n",
    "    plt.imshow(x_test[incorrects[i]].reshape(28,28), cmap='gray', interpolation='none')\n",
    "    plt.title( \"Prédit/vrai : {}/{}\".format(predicted_classes[incorrects[i]], y[incorrects[i]]))\n",
    "    plt.xticks([])\n",
    "    plt.yticks([])\n",
    "plt.tight_layout()\n",
    "print(\"Nombre d'erreurs {}/{}\\n\\n\".format(incorrects.size,y.size))\n"
   ],
   "outputs": [
    {
     "name": "stdout",
     "output_type": "stream",
     "text": [
      " 11/313 [>.............................] - ETA: 1s - loss: 0.1765 - acc: 0.9830     "
     ]
    },
    {
     "name": "stderr",
     "output_type": "stream",
     "text": [
      "2024-10-27 14:48:28.151380: I tensorflow/core/common_runtime/gpu_fusion_pass.cc:508] ROCm Fusion is enabled.\n",
      "2024-10-27 14:48:28.152627: I tensorflow/core/common_runtime/gpu_fusion_pass.cc:508] ROCm Fusion is enabled.\n",
      "2024-10-27 14:48:28.159875: I tensorflow/core/common_runtime/gpu_fusion_pass.cc:508] ROCm Fusion is enabled.\n",
      "2024-10-27 14:48:28.160893: I tensorflow/core/common_runtime/gpu_fusion_pass.cc:508] ROCm Fusion is enabled.\n",
      "2024-10-27 14:48:28.169492: I tensorflow/core/common_runtime/gpu_fusion_pass.cc:508] ROCm Fusion is enabled.\n",
      "2024-10-27 14:48:28.170632: I tensorflow/core/common_runtime/gpu_fusion_pass.cc:508] ROCm Fusion is enabled.\n",
      "2024-10-27 14:48:28.178295: I tensorflow/core/common_runtime/gpu_fusion_pass.cc:508] ROCm Fusion is enabled.\n",
      "2024-10-27 14:48:28.179091: I tensorflow/core/common_runtime/gpu_fusion_pass.cc:508] ROCm Fusion is enabled.\n",
      "2024-10-27 14:48:28.184964: I tensorflow/core/common_runtime/gpu_fusion_pass.cc:508] ROCm Fusion is enabled.\n",
      "2024-10-27 14:48:28.185917: I tensorflow/core/common_runtime/gpu_fusion_pass.cc:508] ROCm Fusion is enabled.\n",
      "2024-10-27 14:48:28.186790: I tensorflow/core/common_runtime/gpu_fusion_pass.cc:508] ROCm Fusion is enabled.\n",
      "2024-10-27 14:48:28.187760: I tensorflow/core/common_runtime/gpu_fusion_pass.cc:508] ROCm Fusion is enabled.\n",
      "2024-10-27 14:48:28.196469: I tensorflow/core/common_runtime/gpu_fusion_pass.cc:508] ROCm Fusion is enabled.\n",
      "2024-10-27 14:48:28.200619: I tensorflow/core/common_runtime/gpu_fusion_pass.cc:508] ROCm Fusion is enabled.\n",
      "2024-10-27 14:48:28.203722: I tensorflow/core/common_runtime/gpu_fusion_pass.cc:508] ROCm Fusion is enabled.\n",
      "2024-10-27 14:48:28.274758: I tensorflow/core/common_runtime/gpu_fusion_pass.cc:508] ROCm Fusion is enabled.\n"
     ]
    },
    {
     "name": "stdout",
     "output_type": "stream",
     "text": [
      "313/313 [==============================] - 2s 5ms/step - loss: 0.1958 - acc: 0.9824\n"
     ]
    },
    {
     "data": {
      "text/plain": [
       "<Figure size 640x480 with 1 Axes>"
      ],
      "image/png": "[encoded data removed]"
     },
     "metadata": {},
     "output_type": "display_data"
    },
    {
     "name": "stdout",
     "output_type": "stream",
     "text": [
      " 49/313 [===>..........................] - ETA: 0s"
     ]
    },
    {
     "name": "stderr",
     "output_type": "stream",
     "text": [
      "2024-10-27 14:48:30.048355: I tensorflow/core/common_runtime/gpu_fusion_pass.cc:508] ROCm Fusion is enabled.\n",
      "2024-10-27 14:48:30.049259: I tensorflow/core/common_runtime/gpu_fusion_pass.cc:508] ROCm Fusion is enabled.\n",
      "2024-10-27 14:48:30.054585: I tensorflow/core/common_runtime/gpu_fusion_pass.cc:508] ROCm Fusion is enabled.\n",
      "2024-10-27 14:48:30.055543: I tensorflow/core/common_runtime/gpu_fusion_pass.cc:508] ROCm Fusion is enabled.\n",
      "2024-10-27 14:48:30.063674: I tensorflow/core/common_runtime/gpu_fusion_pass.cc:508] ROCm Fusion is enabled.\n",
      "2024-10-27 14:48:30.064655: I tensorflow/core/common_runtime/gpu_fusion_pass.cc:508] ROCm Fusion is enabled.\n",
      "2024-10-27 14:48:30.073307: I tensorflow/core/common_runtime/gpu_fusion_pass.cc:508] ROCm Fusion is enabled.\n",
      "2024-10-27 14:48:30.074090: I tensorflow/core/common_runtime/gpu_fusion_pass.cc:508] ROCm Fusion is enabled.\n",
      "2024-10-27 14:48:30.078642: I tensorflow/core/common_runtime/gpu_fusion_pass.cc:508] ROCm Fusion is enabled.\n",
      "2024-10-27 14:48:30.079554: I tensorflow/core/common_runtime/gpu_fusion_pass.cc:508] ROCm Fusion is enabled.\n",
      "2024-10-27 14:48:30.080394: I tensorflow/core/common_runtime/gpu_fusion_pass.cc:508] ROCm Fusion is enabled.\n",
      "2024-10-27 14:48:30.081321: I tensorflow/core/common_runtime/gpu_fusion_pass.cc:508] ROCm Fusion is enabled.\n",
      "2024-10-27 14:48:30.089377: I tensorflow/core/common_runtime/gpu_fusion_pass.cc:508] ROCm Fusion is enabled.\n",
      "2024-10-27 14:48:30.093808: I tensorflow/core/common_runtime/gpu_fusion_pass.cc:508] ROCm Fusion is enabled.\n",
      "2024-10-27 14:48:30.096427: I tensorflow/core/common_runtime/gpu_fusion_pass.cc:508] ROCm Fusion is enabled.\n",
      "2024-10-27 14:48:30.121684: I tensorflow/core/common_runtime/gpu_fusion_pass.cc:508] ROCm Fusion is enabled.\n"
     ]
    },
    {
     "name": "stdout",
     "output_type": "stream",
     "text": [
      "313/313 [==============================] - 1s 2ms/step\n",
      "Nombre d'erreurs 176/10000\n",
      "\n",
      "\n"
     ]
    },
    {
     "data": {
      "text/plain": [
       "<Figure size 640x480 with 0 Axes>"
      ]
     },
     "metadata": {},
     "output_type": "display_data"
    },
    {
     "data": {
      "text/plain": [
       "<Figure size 1000x1000 with 9 Axes>"
      ],
      "image/png": "[encoded data removed]"
     },
     "metadata": {},
     "output_type": "display_data"
    }
   ],
   "execution_count": 20
  }
 ],
 "metadata": {
  "anaconda-cloud": {},
  "kernelspec": {
   "display_name": "Python 3 (ipykernel)",
   "language": "python",
   "name": "python3"
  },
  "language_info": {
   "codemirror_mode": {
    "name": "ipython",
    "version": 3
   },
   "file_extension": ".py",
   "mimetype": "text/x-python",
   "name": "python",
   "nbconvert_exporter": "python",
   "pygments_lexer": "ipython3",
   "version": "3.8.5-final"
  }
 },
 "nbformat": 4,
 "nbformat_minor": 4
}
