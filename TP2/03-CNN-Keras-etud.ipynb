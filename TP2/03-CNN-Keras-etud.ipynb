{
 "cells": [
  {
   "cell_type": "markdown",
   "metadata": {},
   "source": [
    "# Réseau convolutif\n",
    "\n",
    "Objectif : construction d'un réseau convolutif simple avec Keras. \n",
    "De nombreuses possibilités d'amélioration :\n",
    "- optimisation du nombre de couches / noyaux / activations\n",
    "- architecture\n",
    "- régularisation\n",
    "- ..."
   ]
  },
  {
   "cell_type": "markdown",
   "metadata": {},
   "source": [
    "# Imports"
   ]
  },
  {
   "cell_type": "code",
   "metadata": {
    "ExecuteTime": {
     "end_time": "2024-10-28T08:14:16.810989Z",
     "start_time": "2024-10-28T08:14:14.283590Z"
    }
   },
   "source": [
    "import numpy as np\n",
    "import matplotlib.pyplot as plt\n",
    "import tensorflow\n",
    "import tensorflow.keras as tk\n",
    "from tensorflow.keras.datasets import mnist\n",
    "\n",
    "from tensorflow.keras.layers import Input, Dense, Activation,Lambda,Flatten,Dropout\n",
    "from tensorflow.keras.layers import Conv2D\n",
    "from tensorflow.keras.layers import MaxPooling2D\n",
    "from tensorflow.keras.models import Sequential\n",
    "\n",
    "from tensorflow.keras.optimizers import Adam\n"
   ],
   "outputs": [
    {
     "name": "stderr",
     "output_type": "stream",
     "text": [
      "2024-10-28 09:14:14.952101: E external/local_xla/xla/stream_executor/plugin_registry.cc:93] Invalid plugin kind specified: DNN\n",
      "2024-10-28 09:14:15.001982: I tensorflow/core/platform/cpu_feature_guard.cc:182] This TensorFlow binary is optimized to use available CPU instructions in performance-critical operations.\n",
      "To enable the following instructions: AVX2 FMA, in other operations, rebuild TensorFlow with the appropriate compiler flags.\n"
     ]
    }
   ],
   "execution_count": 1
  },
  {
   "metadata": {
    "ExecuteTime": {
     "end_time": "2024-10-28T08:14:20.872587Z",
     "start_time": "2024-10-28T08:14:20.557752Z"
    }
   },
   "cell_type": "code",
   "source": [
    "gpu=tensorflow.config.experimental.list_physical_devices('GPU')\n",
    "tensorflow.config.experimental.set_memory_growth(gpu[0], True)"
   ],
   "outputs": [
    {
     "name": "stderr",
     "output_type": "stream",
     "text": [
      "2024-10-28 09:14:20.769401: I external/local_xla/xla/stream_executor/rocm/rocm_gpu_executor.cc:773] could not open file to read NUMA node: /sys/bus/pci/devices/0000:00:01.0/numa_node\n",
      "Your kernel may have been built without NUMA support.\n",
      "2024-10-28 09:14:20.869507: I external/local_xla/xla/stream_executor/rocm/rocm_gpu_executor.cc:773] could not open file to read NUMA node: /sys/bus/pci/devices/0000:00:01.0/numa_node\n",
      "Your kernel may have been built without NUMA support.\n",
      "2024-10-28 09:14:20.869556: I external/local_xla/xla/stream_executor/rocm/rocm_gpu_executor.cc:773] could not open file to read NUMA node: /sys/bus/pci/devices/0000:00:01.0/numa_node\n",
      "Your kernel may have been built without NUMA support.\n"
     ]
    }
   ],
   "execution_count": 2
  },
  {
   "cell_type": "markdown",
   "metadata": {},
   "source": [
    "# Données"
   ]
  },
  {
   "cell_type": "markdown",
   "metadata": {},
   "source": [
    "On charge ensuite les données MNIST. Les paramètres de la base sont récupérés (nombre d'exemples, de classes, taille de la rétine)."
   ]
  },
  {
   "cell_type": "code",
   "metadata": {
    "tags": [],
    "ExecuteTime": {
     "end_time": "2024-10-28T08:14:28.769434Z",
     "start_time": "2024-10-28T08:14:28.418747Z"
    }
   },
   "source": [
    "(x_train, y_train), (x_test, y_test) = mnist.load_data()\n",
    "\n",
    "\n",
    "num_examples = x_train.shape[0] \n",
    "num_test = x_test.shape[0]\n",
    "num_input = x_train.shape[1]*x_train.shape[2]\n",
    "num_classes = 10\n",
    "\n",
    "img_size = x_train.shape[1] \n",
    "img_shape = (img_size, img_size)\n",
    "\n",
    "x_train = x_train.reshape(num_examples, img_size, img_size, 1)/255\n",
    "x_test = x_test.reshape(x_test.shape[0], img_size, img_size, 1)/255\n",
    "\n",
    "print('Taille de la rétine : ',num_input)\n",
    "print(\"Nombre d'exemples : \",num_examples)\n",
    "\n",
    "# Conversion en matrices binaires\n",
    "y_train = tk.utils.to_categorical(y_train, num_classes)\n",
    "y_test = tk.utils.to_categorical(y_test, num_classes)\n"
   ],
   "outputs": [
    {
     "name": "stdout",
     "output_type": "stream",
     "text": [
      "Taille de la rétine :  784\n",
      "Nombre d'exemples :  60000\n"
     ]
    }
   ],
   "execution_count": 3
  },
  {
   "cell_type": "markdown",
   "metadata": {},
   "source": [
    "# Définition du réseau"
   ]
  },
  {
   "cell_type": "markdown",
   "metadata": {},
   "source": [
    "## Paramètres"
   ]
  },
  {
   "cell_type": "code",
   "metadata": {
    "ExecuteTime": {
     "end_time": "2024-10-28T08:19:52.940917Z",
     "start_time": "2024-10-28T08:19:52.937506Z"
    }
   },
   "source": [
    "lr = 0.001\n",
    "num_epochs = 100\n",
    "batch_size = 128\n",
    "dropout = 0.75 # ici probabilité de garder le neurone"
   ],
   "outputs": [],
   "execution_count": 11
  },
  {
   "cell_type": "markdown",
   "metadata": {},
   "source": [
    "## Types de couches"
   ]
  },
  {
   "cell_type": "markdown",
   "metadata": {},
   "source": [
    "## Modèle du réseau construit \n",
    "CONV1-RELU-MAX POOLING - CONV2-RELU-MAX POOLING-FCL-Dropout-Prediction"
   ]
  },
  {
   "cell_type": "code",
   "metadata": {
    "tags": [],
    "ExecuteTime": {
     "end_time": "2024-10-28T08:19:54.467885Z",
     "start_time": "2024-10-28T08:19:54.361170Z"
    }
   },
   "source": [
    "#TODO\n",
    "model = Sequential()\n",
    "model.add(Conv2D(32, kernel_size=(5, 5), activation='relu', input_shape=(28, 28, 1)))\n",
    "model.add(MaxPooling2D(pool_size=(2, 2)))\n",
    "model.add(Conv2D(64, kernel_size=(5, 5), activation='relu'))\n",
    "model.add(MaxPooling2D(pool_size=(2, 2)))\n",
    "model.add(Flatten())\n",
    "model.add(Dense(1024, activation='relu'))\n",
    "model.add(Dropout(dropout))\n",
    "model.add(Dense(10, activation='softmax'))\n",
    "model.summary()"
   ],
   "outputs": [
    {
     "name": "stdout",
     "output_type": "stream",
     "text": [
      "Model: \"sequential_1\"\n",
      "_________________________________________________________________\n",
      " Layer (type)                Output Shape              Param #   \n",
      "=================================================================\n",
      " conv2d_2 (Conv2D)           (None, 24, 24, 32)        832       \n",
      "                                                                 \n",
      " max_pooling2d_2 (MaxPoolin  (None, 12, 12, 32)        0         \n",
      " g2D)                                                            \n",
      "                                                                 \n",
      " conv2d_3 (Conv2D)           (None, 8, 8, 64)          51264     \n",
      "                                                                 \n",
      " max_pooling2d_3 (MaxPoolin  (None, 4, 4, 64)          0         \n",
      " g2D)                                                            \n",
      "                                                                 \n",
      " flatten_1 (Flatten)         (None, 1024)              0         \n",
      "                                                                 \n",
      " dense_2 (Dense)             (None, 1024)              1049600   \n",
      "                                                                 \n",
      " dropout_1 (Dropout)         (None, 1024)              0         \n",
      "                                                                 \n",
      " dense_3 (Dense)             (None, 10)                10250     \n",
      "                                                                 \n",
      "=================================================================\n",
      "Total params: 1111946 (4.24 MB)\n",
      "Trainable params: 1111946 (4.24 MB)\n",
      "Non-trainable params: 0 (0.00 Byte)\n",
      "_________________________________________________________________\n"
     ]
    },
    {
     "name": "stderr",
     "output_type": "stream",
     "text": [
      "2024-10-28 09:19:54.374444: I tensorflow/core/common_runtime/gpu_fusion_pass.cc:508] ROCm Fusion is enabled.\n",
      "2024-10-28 09:19:54.375737: I tensorflow/core/common_runtime/gpu_fusion_pass.cc:508] ROCm Fusion is enabled.\n",
      "2024-10-28 09:19:54.385526: I tensorflow/core/common_runtime/gpu_fusion_pass.cc:508] ROCm Fusion is enabled.\n",
      "2024-10-28 09:19:54.388184: I tensorflow/core/common_runtime/gpu_fusion_pass.cc:508] ROCm Fusion is enabled.\n",
      "2024-10-28 09:19:54.407281: I tensorflow/core/common_runtime/gpu_fusion_pass.cc:508] ROCm Fusion is enabled.\n",
      "2024-10-28 09:19:54.409420: I tensorflow/core/common_runtime/gpu_fusion_pass.cc:508] ROCm Fusion is enabled.\n",
      "2024-10-28 09:19:54.426146: I tensorflow/core/common_runtime/gpu_fusion_pass.cc:508] ROCm Fusion is enabled.\n",
      "2024-10-28 09:19:54.428097: I tensorflow/core/common_runtime/gpu_fusion_pass.cc:508] ROCm Fusion is enabled.\n"
     ]
    }
   ],
   "execution_count": 12
  },
  {
   "cell_type": "markdown",
   "metadata": {},
   "source": [
    "## Fonction de coût et optimisation"
   ]
  },
  {
   "cell_type": "code",
   "metadata": {
    "ExecuteTime": {
     "end_time": "2024-10-28T08:19:55.136333Z",
     "start_time": "2024-10-28T08:19:55.126651Z"
    }
   },
   "source": [
    "#TODO\n",
    "model.compile(loss='categorical_crossentropy', optimizer=Adam(learning_rate=lr), metrics=['acc'])"
   ],
   "outputs": [],
   "execution_count": 13
  },
  {
   "cell_type": "markdown",
   "metadata": {},
   "source": [
    "# Entraînement du réseau"
   ]
  },
  {
   "cell_type": "code",
   "metadata": {
    "tags": [],
    "ExecuteTime": {
     "end_time": "2024-10-28T08:25:58.294857Z",
     "start_time": "2024-10-28T08:20:06.501732Z"
    }
   },
   "source": [
    "#TODO\n",
    "hist = model.fit(x_train, y_train, batch_size=batch_size, epochs=num_epochs, verbose=1)"
   ],
   "outputs": [
    {
     "name": "stdout",
     "output_type": "stream",
     "text": [
      "Epoch 1/100\n"
     ]
    },
    {
     "name": "stderr",
     "output_type": "stream",
     "text": [
      "2024-10-28 09:20:06.861508: I tensorflow/core/common_runtime/gpu_fusion_pass.cc:508] ROCm Fusion is enabled.\n",
      "2024-10-28 09:20:06.863143: I tensorflow/core/common_runtime/gpu_fusion_pass.cc:508] ROCm Fusion is enabled.\n",
      "2024-10-28 09:20:06.870450: I tensorflow/core/common_runtime/gpu_fusion_pass.cc:508] ROCm Fusion is enabled.\n",
      "2024-10-28 09:20:06.871356: I tensorflow/core/common_runtime/gpu_fusion_pass.cc:508] ROCm Fusion is enabled.\n",
      "2024-10-28 09:20:06.894073: I tensorflow/core/common_runtime/gpu_fusion_pass.cc:508] ROCm Fusion is enabled.\n",
      "2024-10-28 09:20:06.895287: I tensorflow/core/common_runtime/gpu_fusion_pass.cc:508] ROCm Fusion is enabled.\n",
      "2024-10-28 09:20:06.951437: I tensorflow/core/common_runtime/gpu_fusion_pass.cc:508] ROCm Fusion is enabled.\n",
      "2024-10-28 09:20:06.952376: I tensorflow/core/common_runtime/gpu_fusion_pass.cc:508] ROCm Fusion is enabled.\n",
      "2024-10-28 09:20:06.959047: I tensorflow/core/common_runtime/gpu_fusion_pass.cc:508] ROCm Fusion is enabled.\n",
      "2024-10-28 09:20:06.960075: I tensorflow/core/common_runtime/gpu_fusion_pass.cc:508] ROCm Fusion is enabled.\n",
      "2024-10-28 09:20:06.960965: I tensorflow/core/common_runtime/gpu_fusion_pass.cc:508] ROCm Fusion is enabled.\n",
      "2024-10-28 09:20:06.961931: I tensorflow/core/common_runtime/gpu_fusion_pass.cc:508] ROCm Fusion is enabled.\n",
      "2024-10-28 09:20:06.971587: I tensorflow/core/common_runtime/gpu_fusion_pass.cc:508] ROCm Fusion is enabled.\n",
      "2024-10-28 09:20:06.977211: I tensorflow/core/common_runtime/gpu_fusion_pass.cc:508] ROCm Fusion is enabled.\n",
      "2024-10-28 09:20:06.980472: I tensorflow/core/common_runtime/gpu_fusion_pass.cc:508] ROCm Fusion is enabled.\n",
      "2024-10-28 09:20:07.046630: I tensorflow/core/common_runtime/gpu_fusion_pass.cc:508] ROCm Fusion is enabled.\n",
      "2024-10-28 09:20:07.047754: I tensorflow/core/common_runtime/gpu_fusion_pass.cc:508] ROCm Fusion is enabled.\n",
      "2024-10-28 09:20:07.048797: I tensorflow/core/common_runtime/gpu_fusion_pass.cc:508] ROCm Fusion is enabled.\n",
      "2024-10-28 09:20:07.049787: I tensorflow/core/common_runtime/gpu_fusion_pass.cc:508] ROCm Fusion is enabled.\n",
      "2024-10-28 09:20:07.050806: I tensorflow/core/common_runtime/gpu_fusion_pass.cc:508] ROCm Fusion is enabled.\n",
      "2024-10-28 09:20:07.051797: I tensorflow/core/common_runtime/gpu_fusion_pass.cc:508] ROCm Fusion is enabled.\n",
      "2024-10-28 09:20:07.052807: I tensorflow/core/common_runtime/gpu_fusion_pass.cc:508] ROCm Fusion is enabled.\n",
      "2024-10-28 09:20:07.053809: I tensorflow/core/common_runtime/gpu_fusion_pass.cc:508] ROCm Fusion is enabled.\n",
      "2024-10-28 09:20:07.054844: I tensorflow/core/common_runtime/gpu_fusion_pass.cc:508] ROCm Fusion is enabled.\n",
      "2024-10-28 09:20:07.055839: I tensorflow/core/common_runtime/gpu_fusion_pass.cc:508] ROCm Fusion is enabled.\n",
      "2024-10-28 09:20:07.056847: I tensorflow/core/common_runtime/gpu_fusion_pass.cc:508] ROCm Fusion is enabled.\n",
      "2024-10-28 09:20:07.057831: I tensorflow/core/common_runtime/gpu_fusion_pass.cc:508] ROCm Fusion is enabled.\n",
      "2024-10-28 09:20:07.058824: I tensorflow/core/common_runtime/gpu_fusion_pass.cc:508] ROCm Fusion is enabled.\n",
      "2024-10-28 09:20:07.059808: I tensorflow/core/common_runtime/gpu_fusion_pass.cc:508] ROCm Fusion is enabled.\n",
      "2024-10-28 09:20:07.060793: I tensorflow/core/common_runtime/gpu_fusion_pass.cc:508] ROCm Fusion is enabled.\n",
      "2024-10-28 09:20:07.061843: I tensorflow/core/common_runtime/gpu_fusion_pass.cc:508] ROCm Fusion is enabled.\n",
      "2024-10-28 09:20:07.416589: I tensorflow/core/common_runtime/gpu_fusion_pass.cc:508] ROCm Fusion is enabled.\n"
     ]
    },
    {
     "name": "stdout",
     "output_type": "stream",
     "text": [
      "469/469 [==============================] - 4s 8ms/step - loss: 0.2122 - acc: 0.9327\n",
      "Epoch 2/100\n",
      "469/469 [==============================] - 4s 8ms/step - loss: 0.0654 - acc: 0.9799\n",
      "Epoch 3/100\n",
      "469/469 [==============================] - 4s 8ms/step - loss: 0.0456 - acc: 0.9858\n",
      "Epoch 4/100\n",
      "469/469 [==============================] - 4s 8ms/step - loss: 0.0359 - acc: 0.9887\n",
      "Epoch 5/100\n",
      "469/469 [==============================] - 1s 3ms/step - loss: 0.0305 - acc: 0.9904\n",
      "Epoch 6/100\n",
      "469/469 [==============================] - 4s 8ms/step - loss: 0.0247 - acc: 0.9923\n",
      "Epoch 7/100\n",
      "469/469 [==============================] - 4s 9ms/step - loss: 0.0244 - acc: 0.9924\n",
      "Epoch 8/100\n",
      "469/469 [==============================] - 4s 9ms/step - loss: 0.0190 - acc: 0.9938\n",
      "Epoch 9/100\n",
      "469/469 [==============================] - 5s 10ms/step - loss: 0.0183 - acc: 0.9938\n",
      "Epoch 10/100\n",
      "469/469 [==============================] - 4s 9ms/step - loss: 0.0150 - acc: 0.9954\n",
      "Epoch 11/100\n",
      "469/469 [==============================] - 4s 9ms/step - loss: 0.0154 - acc: 0.9952\n",
      "Epoch 12/100\n",
      "469/469 [==============================] - 4s 9ms/step - loss: 0.0148 - acc: 0.9956\n",
      "Epoch 13/100\n",
      "469/469 [==============================] - 2s 4ms/step - loss: 0.0123 - acc: 0.9959\n",
      "Epoch 14/100\n",
      "469/469 [==============================] - 4s 8ms/step - loss: 0.0097 - acc: 0.9966\n",
      "Epoch 15/100\n",
      "469/469 [==============================] - 4s 8ms/step - loss: 0.0119 - acc: 0.9961\n",
      "Epoch 16/100\n",
      "469/469 [==============================] - 4s 8ms/step - loss: 0.0097 - acc: 0.9969\n",
      "Epoch 17/100\n",
      "469/469 [==============================] - 4s 8ms/step - loss: 0.0099 - acc: 0.9969\n",
      "Epoch 18/100\n",
      "469/469 [==============================] - 4s 8ms/step - loss: 0.0081 - acc: 0.9974\n",
      "Epoch 19/100\n",
      "469/469 [==============================] - 4s 8ms/step - loss: 0.0074 - acc: 0.9977\n",
      "Epoch 20/100\n",
      "469/469 [==============================] - 4s 8ms/step - loss: 0.0075 - acc: 0.9975\n",
      "Epoch 21/100\n",
      "469/469 [==============================] - 4s 8ms/step - loss: 0.0097 - acc: 0.9970\n",
      "Epoch 22/100\n",
      "469/469 [==============================] - 1s 2ms/step - loss: 0.0070 - acc: 0.9978\n",
      "Epoch 23/100\n",
      "469/469 [==============================] - 4s 8ms/step - loss: 0.0062 - acc: 0.9981\n",
      "Epoch 24/100\n",
      "469/469 [==============================] - 4s 8ms/step - loss: 0.0056 - acc: 0.9982\n",
      "Epoch 25/100\n",
      "469/469 [==============================] - 4s 8ms/step - loss: 0.0064 - acc: 0.9978\n",
      "Epoch 26/100\n",
      "469/469 [==============================] - 4s 8ms/step - loss: 0.0055 - acc: 0.9982\n",
      "Epoch 27/100\n",
      "469/469 [==============================] - 4s 8ms/step - loss: 0.0070 - acc: 0.9978\n",
      "Epoch 28/100\n",
      "469/469 [==============================] - 4s 8ms/step - loss: 0.0072 - acc: 0.9974\n",
      "Epoch 29/100\n",
      "469/469 [==============================] - 4s 8ms/step - loss: 0.0052 - acc: 0.9982\n",
      "Epoch 30/100\n",
      "469/469 [==============================] - 4s 8ms/step - loss: 0.0047 - acc: 0.9984\n",
      "Epoch 31/100\n",
      "469/469 [==============================] - 1s 3ms/step - loss: 0.0059 - acc: 0.9980\n",
      "Epoch 32/100\n",
      "469/469 [==============================] - 4s 8ms/step - loss: 0.0058 - acc: 0.9981\n",
      "Epoch 33/100\n",
      "469/469 [==============================] - 4s 8ms/step - loss: 0.0059 - acc: 0.9981\n",
      "Epoch 34/100\n",
      "469/469 [==============================] - 4s 8ms/step - loss: 0.0053 - acc: 0.9983\n",
      "Epoch 35/100\n",
      "469/469 [==============================] - 4s 8ms/step - loss: 0.0054 - acc: 0.9984\n",
      "Epoch 36/100\n",
      "469/469 [==============================] - 4s 8ms/step - loss: 0.0045 - acc: 0.9986\n",
      "Epoch 37/100\n",
      "469/469 [==============================] - 4s 8ms/step - loss: 0.0053 - acc: 0.9986\n",
      "Epoch 38/100\n",
      "469/469 [==============================] - 4s 9ms/step - loss: 0.0041 - acc: 0.9988\n",
      "Epoch 39/100\n",
      "469/469 [==============================] - 1s 3ms/step - loss: 0.0062 - acc: 0.9983\n",
      "Epoch 40/100\n",
      "469/469 [==============================] - 4s 8ms/step - loss: 0.0044 - acc: 0.9987\n",
      "Epoch 41/100\n",
      "469/469 [==============================] - 3s 7ms/step - loss: 0.0033 - acc: 0.9991\n",
      "Epoch 42/100\n",
      "469/469 [==============================] - 4s 8ms/step - loss: 0.0061 - acc: 0.9983\n",
      "Epoch 43/100\n",
      "469/469 [==============================] - 4s 8ms/step - loss: 0.0061 - acc: 0.9984\n",
      "Epoch 44/100\n",
      "469/469 [==============================] - 4s 8ms/step - loss: 0.0042 - acc: 0.9988\n",
      "Epoch 45/100\n",
      "469/469 [==============================] - 4s 8ms/step - loss: 0.0044 - acc: 0.9986\n",
      "Epoch 46/100\n",
      "469/469 [==============================] - 4s 8ms/step - loss: 0.0053 - acc: 0.9988\n",
      "Epoch 47/100\n",
      "469/469 [==============================] - 4s 8ms/step - loss: 0.0048 - acc: 0.9987\n",
      "Epoch 48/100\n",
      "469/469 [==============================] - 2s 4ms/step - loss: 0.0032 - acc: 0.9990\n",
      "Epoch 49/100\n",
      "469/469 [==============================] - 4s 8ms/step - loss: 0.0022 - acc: 0.9993\n",
      "Epoch 50/100\n",
      "469/469 [==============================] - 4s 8ms/step - loss: 0.0043 - acc: 0.9988\n",
      "Epoch 51/100\n",
      "469/469 [==============================] - 4s 8ms/step - loss: 0.0058 - acc: 0.9985\n",
      "Epoch 52/100\n",
      "469/469 [==============================] - 4s 8ms/step - loss: 0.0054 - acc: 0.9986\n",
      "Epoch 53/100\n",
      "469/469 [==============================] - 4s 8ms/step - loss: 0.0036 - acc: 0.9990\n",
      "Epoch 54/100\n",
      "469/469 [==============================] - 4s 8ms/step - loss: 0.0042 - acc: 0.9989\n",
      "Epoch 55/100\n",
      "469/469 [==============================] - 4s 8ms/step - loss: 0.0032 - acc: 0.9991\n",
      "Epoch 56/100\n",
      "469/469 [==============================] - 4s 8ms/step - loss: 0.0079 - acc: 0.9983\n",
      "Epoch 57/100\n",
      "469/469 [==============================] - 1s 3ms/step - loss: 0.0040 - acc: 0.9988\n",
      "Epoch 58/100\n",
      "469/469 [==============================] - 4s 8ms/step - loss: 0.0035 - acc: 0.9991\n",
      "Epoch 59/100\n",
      "469/469 [==============================] - 4s 8ms/step - loss: 0.0030 - acc: 0.9991\n",
      "Epoch 60/100\n",
      "469/469 [==============================] - 4s 8ms/step - loss: 0.0038 - acc: 0.9990\n",
      "Epoch 61/100\n",
      "469/469 [==============================] - 4s 8ms/step - loss: 0.0046 - acc: 0.9988\n",
      "Epoch 62/100\n",
      "469/469 [==============================] - 4s 8ms/step - loss: 0.0039 - acc: 0.9989\n",
      "Epoch 63/100\n",
      "469/469 [==============================] - 4s 8ms/step - loss: 0.0038 - acc: 0.9990\n",
      "Epoch 64/100\n",
      "469/469 [==============================] - 4s 8ms/step - loss: 0.0049 - acc: 0.9986\n",
      "Epoch 65/100\n",
      "469/469 [==============================] - 1s 3ms/step - loss: 0.0030 - acc: 0.9993\n",
      "Epoch 66/100\n",
      "469/469 [==============================] - 4s 8ms/step - loss: 0.0049 - acc: 0.9990\n",
      "Epoch 67/100\n",
      "469/469 [==============================] - 4s 8ms/step - loss: 0.0068 - acc: 0.9987\n",
      "Epoch 68/100\n",
      "469/469 [==============================] - 4s 7ms/step - loss: 0.0048 - acc: 0.9989\n",
      "Epoch 69/100\n",
      "469/469 [==============================] - 4s 8ms/step - loss: 0.0031 - acc: 0.9993\n",
      "Epoch 70/100\n",
      "469/469 [==============================] - 4s 8ms/step - loss: 0.0045 - acc: 0.9991\n",
      "Epoch 71/100\n",
      "469/469 [==============================] - 4s 8ms/step - loss: 0.0052 - acc: 0.9989\n",
      "Epoch 72/100\n",
      "469/469 [==============================] - 4s 8ms/step - loss: 0.0040 - acc: 0.9991\n",
      "Epoch 73/100\n",
      "469/469 [==============================] - 4s 8ms/step - loss: 0.0036 - acc: 0.9992\n",
      "Epoch 74/100\n",
      "469/469 [==============================] - 1s 3ms/step - loss: 0.0047 - acc: 0.9990\n",
      "Epoch 75/100\n",
      "469/469 [==============================] - 4s 8ms/step - loss: 0.0040 - acc: 0.9991\n",
      "Epoch 76/100\n",
      "469/469 [==============================] - 4s 8ms/step - loss: 0.0030 - acc: 0.9992\n",
      "Epoch 77/100\n",
      "469/469 [==============================] - 4s 8ms/step - loss: 0.0043 - acc: 0.9990\n",
      "Epoch 78/100\n",
      "469/469 [==============================] - 4s 10ms/step - loss: 0.0048 - acc: 0.9989\n",
      "Epoch 79/100\n",
      "469/469 [==============================] - 4s 9ms/step - loss: 0.0035 - acc: 0.9991\n",
      "Epoch 80/100\n",
      "469/469 [==============================] - 4s 9ms/step - loss: 0.0036 - acc: 0.9989\n",
      "Epoch 81/100\n",
      "469/469 [==============================] - 4s 9ms/step - loss: 0.0046 - acc: 0.9990\n",
      "Epoch 82/100\n",
      "469/469 [==============================] - 2s 4ms/step - loss: 0.0032 - acc: 0.9992\n",
      "Epoch 83/100\n",
      "469/469 [==============================] - 4s 8ms/step - loss: 0.0035 - acc: 0.9992\n",
      "Epoch 84/100\n",
      "469/469 [==============================] - 4s 8ms/step - loss: 0.0055 - acc: 0.9989\n",
      "Epoch 85/100\n",
      "469/469 [==============================] - 4s 8ms/step - loss: 0.0036 - acc: 0.9992\n",
      "Epoch 86/100\n",
      "469/469 [==============================] - 4s 8ms/step - loss: 0.0057 - acc: 0.9989\n",
      "Epoch 87/100\n",
      "469/469 [==============================] - 4s 8ms/step - loss: 0.0056 - acc: 0.9990\n",
      "Epoch 88/100\n",
      "469/469 [==============================] - 4s 9ms/step - loss: 0.0036 - acc: 0.9991\n",
      "Epoch 89/100\n",
      "469/469 [==============================] - 4s 8ms/step - loss: 0.0041 - acc: 0.9991\n",
      "Epoch 90/100\n",
      "469/469 [==============================] - 2s 4ms/step - loss: 0.0023 - acc: 0.9993\n",
      "Epoch 91/100\n",
      "469/469 [==============================] - 4s 8ms/step - loss: 0.0043 - acc: 0.9991\n",
      "Epoch 92/100\n",
      "469/469 [==============================] - 4s 8ms/step - loss: 0.0063 - acc: 0.9989\n",
      "Epoch 93/100\n",
      "469/469 [==============================] - 4s 8ms/step - loss: 0.0042 - acc: 0.9993\n",
      "Epoch 94/100\n",
      "469/469 [==============================] - 4s 8ms/step - loss: 0.0050 - acc: 0.9991\n",
      "Epoch 95/100\n",
      "469/469 [==============================] - 4s 8ms/step - loss: 0.0035 - acc: 0.9993\n",
      "Epoch 96/100\n",
      "469/469 [==============================] - 4s 8ms/step - loss: 0.0040 - acc: 0.9993\n",
      "Epoch 97/100\n",
      "469/469 [==============================] - 4s 8ms/step - loss: 0.0058 - acc: 0.9991\n",
      "Epoch 98/100\n",
      "469/469 [==============================] - 4s 8ms/step - loss: 0.0068 - acc: 0.9988\n",
      "Epoch 99/100\n",
      "469/469 [==============================] - 1s 3ms/step - loss: 0.0045 - acc: 0.9993\n",
      "Epoch 100/100\n",
      "469/469 [==============================] - 4s 8ms/step - loss: 0.0047 - acc: 0.9991\n"
     ]
    }
   ],
   "execution_count": 14
  },
  {
   "cell_type": "code",
   "metadata": {
    "ExecuteTime": {
     "end_time": "2024-10-28T08:26:19.762363Z",
     "start_time": "2024-10-28T08:26:18.163478Z"
    }
   },
   "source": [
    "score = model.evaluate(x_test, y_test, verbose=0)\n",
    "plt.figure(figsize=(15,8))\n",
    "plt.subplot(1,2,1)\n",
    "plt.plot(hist.history['acc'])\n",
    "plt.plot(hist.history['val_acc'])\n",
    "plt.title('Précision')\n",
    "plt.ylabel('Précision')\n",
    "plt.xlabel('epoch')\n",
    "plt.legend(['train', 'validation'], loc='best')\n",
    "\n",
    "plt.subplot(1,2,2)\n",
    "x = list(range(1,num_epochs+1))\n",
    "l = hist.history['loss']\n",
    "plt.xlabel('epoch')\n",
    "plt.ylabel('Entropie croisée')\n",
    "plt.title(\"Test : Score = {0:5.3f}, Précision = {1:5.3f}\".format(score[0], score[1]))\n",
    "plt.plot(x,l)\n",
    "plt.show()\n",
    "plt.tight_layout()"
   ],
   "outputs": [
    {
     "name": "stderr",
     "output_type": "stream",
     "text": [
      "2024-10-28 09:26:18.244761: I tensorflow/core/common_runtime/gpu_fusion_pass.cc:508] ROCm Fusion is enabled.\n",
      "2024-10-28 09:26:18.246141: I tensorflow/core/common_runtime/gpu_fusion_pass.cc:508] ROCm Fusion is enabled.\n",
      "2024-10-28 09:26:18.259980: I tensorflow/core/common_runtime/gpu_fusion_pass.cc:508] ROCm Fusion is enabled.\n",
      "2024-10-28 09:26:18.261750: I tensorflow/core/common_runtime/gpu_fusion_pass.cc:508] ROCm Fusion is enabled.\n",
      "2024-10-28 09:26:18.279163: I tensorflow/core/common_runtime/gpu_fusion_pass.cc:508] ROCm Fusion is enabled.\n",
      "2024-10-28 09:26:18.282025: I tensorflow/core/common_runtime/gpu_fusion_pass.cc:508] ROCm Fusion is enabled.\n",
      "2024-10-28 09:26:18.291924: I tensorflow/core/common_runtime/gpu_fusion_pass.cc:508] ROCm Fusion is enabled.\n",
      "2024-10-28 09:26:18.292939: I tensorflow/core/common_runtime/gpu_fusion_pass.cc:508] ROCm Fusion is enabled.\n",
      "2024-10-28 09:26:18.299925: I tensorflow/core/common_runtime/gpu_fusion_pass.cc:508] ROCm Fusion is enabled.\n",
      "2024-10-28 09:26:18.301178: I tensorflow/core/common_runtime/gpu_fusion_pass.cc:508] ROCm Fusion is enabled.\n",
      "2024-10-28 09:26:18.302164: I tensorflow/core/common_runtime/gpu_fusion_pass.cc:508] ROCm Fusion is enabled.\n",
      "2024-10-28 09:26:18.303306: I tensorflow/core/common_runtime/gpu_fusion_pass.cc:508] ROCm Fusion is enabled.\n",
      "2024-10-28 09:26:18.313074: I tensorflow/core/common_runtime/gpu_fusion_pass.cc:508] ROCm Fusion is enabled.\n",
      "2024-10-28 09:26:18.317771: I tensorflow/core/common_runtime/gpu_fusion_pass.cc:508] ROCm Fusion is enabled.\n",
      "2024-10-28 09:26:18.322269: I tensorflow/core/common_runtime/gpu_fusion_pass.cc:508] ROCm Fusion is enabled.\n",
      "2024-10-28 09:26:18.410064: I tensorflow/core/common_runtime/gpu_fusion_pass.cc:508] ROCm Fusion is enabled.\n"
     ]
    },
    {
     "ename": "KeyError",
     "evalue": "'val_acc'",
     "output_type": "error",
     "traceback": [
      "\u001B[0;31m---------------------------------------------------------------------------\u001B[0m",
      "\u001B[0;31mKeyError\u001B[0m                                  Traceback (most recent call last)",
      "Cell \u001B[0;32mIn[15], line 5\u001B[0m\n\u001B[1;32m      3\u001B[0m plt\u001B[38;5;241m.\u001B[39msubplot(\u001B[38;5;241m1\u001B[39m,\u001B[38;5;241m2\u001B[39m,\u001B[38;5;241m1\u001B[39m)\n\u001B[1;32m      4\u001B[0m plt\u001B[38;5;241m.\u001B[39mplot(hist\u001B[38;5;241m.\u001B[39mhistory[\u001B[38;5;124m'\u001B[39m\u001B[38;5;124macc\u001B[39m\u001B[38;5;124m'\u001B[39m])\n\u001B[0;32m----> 5\u001B[0m plt\u001B[38;5;241m.\u001B[39mplot(\u001B[43mhist\u001B[49m\u001B[38;5;241;43m.\u001B[39;49m\u001B[43mhistory\u001B[49m\u001B[43m[\u001B[49m\u001B[38;5;124;43m'\u001B[39;49m\u001B[38;5;124;43mval_acc\u001B[39;49m\u001B[38;5;124;43m'\u001B[39;49m\u001B[43m]\u001B[49m)\n\u001B[1;32m      6\u001B[0m plt\u001B[38;5;241m.\u001B[39mtitle(\u001B[38;5;124m'\u001B[39m\u001B[38;5;124mPrécision\u001B[39m\u001B[38;5;124m'\u001B[39m)\n\u001B[1;32m      7\u001B[0m plt\u001B[38;5;241m.\u001B[39mylabel(\u001B[38;5;124m'\u001B[39m\u001B[38;5;124mPrécision\u001B[39m\u001B[38;5;124m'\u001B[39m)\n",
      "\u001B[0;31mKeyError\u001B[0m: 'val_acc'"
     ]
    },
    {
     "data": {
      "text/plain": [
       "<Figure size 1500x800 with 1 Axes>"
      ],
      "image/png": "[encoded data removed]"
     },
     "metadata": {},
     "output_type": "display_data"
    }
   ],
   "execution_count": 15
  },
  {
   "cell_type": "code",
   "metadata": {
    "tags": [],
    "ExecuteTime": {
     "end_time": "2024-10-28T08:26:27.635990Z",
     "start_time": "2024-10-28T08:26:26.287832Z"
    }
   },
   "source": [
    "predicted_classes = np.argmax(model.predict(x_test), axis=-1)\n",
    "y = np.argmax(y_test,axis=1)\n",
    "\n",
    "incorrects = np.nonzero(predicted_classes != y)[0]\n",
    "plt.figure(figsize=(10,10))\n",
    "for i in range(0,9):\n",
    "    plt.subplot(3,3,i+1)\n",
    "    plt.imshow(x_test[incorrects[i]].reshape(28,28), cmap='gray', interpolation='none')\n",
    "    plt.title( \"Prédit/vrai : {}/{}\".format(predicted_classes[incorrects[i]], y[incorrects[i]]))\n",
    "    plt.xticks([])\n",
    "    plt.yticks([])\n",
    "plt.tight_layout()\n",
    "print(\"Nombre d'erreurs {}/{}\\n\\n\".format(incorrects.size,y.size))\n"
   ],
   "outputs": [
    {
     "name": "stdout",
     "output_type": "stream",
     "text": [
      " 42/313 [===>..........................] - ETA: 0s"
     ]
    },
    {
     "name": "stderr",
     "output_type": "stream",
     "text": [
      "2024-10-28 09:26:26.389598: I tensorflow/core/common_runtime/gpu_fusion_pass.cc:508] ROCm Fusion is enabled.\n",
      "2024-10-28 09:26:26.390710: I tensorflow/core/common_runtime/gpu_fusion_pass.cc:508] ROCm Fusion is enabled.\n",
      "2024-10-28 09:26:26.397579: I tensorflow/core/common_runtime/gpu_fusion_pass.cc:508] ROCm Fusion is enabled.\n",
      "2024-10-28 09:26:26.398803: I tensorflow/core/common_runtime/gpu_fusion_pass.cc:508] ROCm Fusion is enabled.\n",
      "2024-10-28 09:26:26.407874: I tensorflow/core/common_runtime/gpu_fusion_pass.cc:508] ROCm Fusion is enabled.\n",
      "2024-10-28 09:26:26.408921: I tensorflow/core/common_runtime/gpu_fusion_pass.cc:508] ROCm Fusion is enabled.\n",
      "2024-10-28 09:26:26.416269: I tensorflow/core/common_runtime/gpu_fusion_pass.cc:508] ROCm Fusion is enabled.\n",
      "2024-10-28 09:26:26.417095: I tensorflow/core/common_runtime/gpu_fusion_pass.cc:508] ROCm Fusion is enabled.\n",
      "2024-10-28 09:26:26.422218: I tensorflow/core/common_runtime/gpu_fusion_pass.cc:508] ROCm Fusion is enabled.\n",
      "2024-10-28 09:26:26.423295: I tensorflow/core/common_runtime/gpu_fusion_pass.cc:508] ROCm Fusion is enabled.\n",
      "2024-10-28 09:26:26.424250: I tensorflow/core/common_runtime/gpu_fusion_pass.cc:508] ROCm Fusion is enabled.\n",
      "2024-10-28 09:26:26.425284: I tensorflow/core/common_runtime/gpu_fusion_pass.cc:508] ROCm Fusion is enabled.\n",
      "2024-10-28 09:26:26.434039: I tensorflow/core/common_runtime/gpu_fusion_pass.cc:508] ROCm Fusion is enabled.\n",
      "2024-10-28 09:26:26.438248: I tensorflow/core/common_runtime/gpu_fusion_pass.cc:508] ROCm Fusion is enabled.\n",
      "2024-10-28 09:26:26.441022: I tensorflow/core/common_runtime/gpu_fusion_pass.cc:508] ROCm Fusion is enabled.\n",
      "2024-10-28 09:26:26.471947: I tensorflow/core/common_runtime/gpu_fusion_pass.cc:508] ROCm Fusion is enabled.\n"
     ]
    },
    {
     "name": "stdout",
     "output_type": "stream",
     "text": [
      "313/313 [==============================] - 1s 2ms/step\n",
      "Nombre d'erreurs 78/10000\n",
      "\n",
      "\n"
     ]
    },
    {
     "data": {
      "text/plain": [
       "<Figure size 1000x1000 with 9 Axes>"
      ],
      "image/png": "[encoded data removed]"
     },
     "metadata": {},
     "output_type": "display_data"
    }
   ],
   "execution_count": 16
  },
  {
   "metadata": {},
   "cell_type": "code",
   "outputs": [],
   "execution_count": null,
   "source": ""
  }
 ],
 "metadata": {
  "kernelspec": {
   "display_name": "Python 3 (ipykernel)",
   "language": "python",
   "name": "python3"
  },
  "language_info": {
   "codemirror_mode": {
    "name": "ipython",
    "version": 3
   },
   "file_extension": ".py",
   "mimetype": "text/x-python",
   "name": "python",
   "nbconvert_exporter": "python",
   "pygments_lexer": "ipython3",
   "version": "3.8.5-final"
  }
 },
 "nbformat": 4,
 "nbformat_minor": 4
}
